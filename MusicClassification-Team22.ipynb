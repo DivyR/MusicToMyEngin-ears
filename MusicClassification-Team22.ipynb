{
 "cells": [
  {
   "cell_type": "markdown",
   "metadata": {},
   "source": [
    "# Music Classification using Neural Networks\n",
    "by: Team 22\n",
    "***\n",
    "This notebook will serve as the 'main' training & classification point of network. It will be kept as easy-to-read as possible by importing necessary pre-processing, data loaders, and other helper functions that do not need to be tuned with the network."
   ]
  },
  {
   "cell_type": "code",
   "execution_count": 1,
   "metadata": {},
   "outputs": [],
   "source": [
    "# import libraries\n",
    "import torch\n",
    "import matplotlib.pyplot as plt\n",
    "\n",
    "# files and networks made by us\n",
    "from DataProcessing import SplitTVT as tvt\n",
    "from Networks.CRNN import CRNN\n",
    "from Networks import Helpers as hp"
   ]
  },
  {
   "cell_type": "code",
   "execution_count": 2,
   "metadata": {},
   "outputs": [],
   "source": [
    "pathSets = [\"Data/trainSet.pkl\", \"Data/valSet.pkl\", \"Data/testSet.pkl\"]  # path to datasets"
   ]
  },
  {
   "cell_type": "code",
   "execution_count": 3,
   "metadata": {},
   "outputs": [],
   "source": [
    "# hyperparameters\n",
    "bs = 64  # batch size\n",
    "lr = 0.0001  # learning rate\n",
    "epo = 30  # epochs\n",
    "\n",
    "# hyperparameters for rnn\n",
    "hidden_size = 10\n",
    "num_layers = 1"
   ]
  },
  {
   "cell_type": "code",
   "execution_count": 4,
   "metadata": {
    "tags": []
   },
   "outputs": [],
   "source": [
    "trainLoader, valLoader, testLoader = tvt.load_data(pathSets[0], pathSets[1], pathSets[2], bs)"
   ]
  },
  {
   "cell_type": "code",
   "execution_count": 5,
   "metadata": {},
   "outputs": [],
   "source": [
    "net = CRNN(\"crnn_1\", hiddenSize=hidden_size, numLayers=num_layers)"
   ]
  },
  {
   "cell_type": "code",
   "execution_count": 6,
   "metadata": {
    "tags": []
   },
   "outputs": [
    {
     "output_type": "stream",
     "name": "stdout",
     "text": "Training Started...\nEpoch 1: Train acc: 0.16666666666666666, Train loss: 1.8020244747400285 | Validation acc: 0.16666666666666666, Validation loss: 1.801142758793301\nEpoch 2: Train acc: 0.16944444444444445, Train loss: 1.7727434486150742 | Validation acc: 0.16666666666666666, Validation loss: 1.7751185761557684\nEpoch 3: Train acc: 0.18571428571428572, Train loss: 1.758742979168892 | Validation acc: 0.17962962962962964, Validation loss: 1.7669240766101413\nEpoch 4: Train acc: 0.22777777777777777, Train loss: 1.7445859014987946 | Validation acc: 0.2, Validation loss: 1.7512526114781697\nEpoch 5: Train acc: 0.275, Train loss: 1.7294859915971756 | Validation acc: 0.2537037037037037, Validation loss: 1.7349756823645697\nEpoch 6: Train acc: 0.29285714285714287, Train loss: 1.7161150693893432 | Validation acc: 0.2814814814814815, Validation loss: 1.7169341246287029\nEpoch 7: Train acc: 0.30198412698412697, Train loss: 1.702488574385643 | Validation acc: 0.29259259259259257, Validation loss: 1.7047870821423001\nEpoch 8: Train acc: 0.31547619047619047, Train loss: 1.6880575269460678 | Validation acc: 0.3074074074074074, Validation loss: 1.6917519039577908\nEpoch 9: Train acc: 0.3341269841269841, Train loss: 1.675372987985611 | Validation acc: 0.31666666666666665, Validation loss: 1.6774046288596258\nEpoch 10: Train acc: 0.353968253968254, Train loss: 1.6617529660463333 | Validation acc: 0.337037037037037, Validation loss: 1.6695759296417236\nEpoch 11: Train acc: 0.3773809523809524, Train loss: 1.6501675873994828 | Validation acc: 0.35185185185185186, Validation loss: 1.6515188614527385\nEpoch 12: Train acc: 0.4011904761904762, Train loss: 1.6372029721736907 | Validation acc: 0.362962962962963, Validation loss: 1.6403493218951755\nEpoch 13: Train acc: 0.4174603174603175, Train loss: 1.6242112785577774 | Validation acc: 0.37777777777777777, Validation loss: 1.6233725945154827\nEpoch 14: Train acc: 0.41388888888888886, Train loss: 1.6141889572143555 | Validation acc: 0.37592592592592594, Validation loss: 1.6150955888960097\nEpoch 15: Train acc: 0.4253968253968254, Train loss: 1.6037096738815309 | Validation acc: 0.4, Validation loss: 1.6079690191480849\nEpoch 16: Train acc: 0.4154761904761905, Train loss: 1.5936083972454071 | Validation acc: 0.38333333333333336, Validation loss: 1.5969349675708346\nEpoch 17: Train acc: 0.41944444444444445, Train loss: 1.584699234366417 | Validation acc: 0.39444444444444443, Validation loss: 1.5947037140528362\nEpoch 18: Train acc: 0.4146825396825397, Train loss: 1.5786482989788055 | Validation acc: 0.37407407407407406, Validation loss: 1.58863455719418\nEpoch 19: Train acc: 0.4301587301587302, Train loss: 1.5677834630012513 | Validation acc: 0.40185185185185185, Validation loss: 1.5728190475040011\nEpoch 20: Train acc: 0.44166666666666665, Train loss: 1.5601285427808762 | Validation acc: 0.4203703703703704, Validation loss: 1.5632836288876004\nEpoch 21: Train acc: 0.44682539682539685, Train loss: 1.5506029009819031 | Validation acc: 0.42962962962962964, Validation loss: 1.5564918915430705\nEpoch 22: Train acc: 0.44642857142857145, Train loss: 1.5444500535726546 | Validation acc: 0.42407407407407405, Validation loss: 1.5514850219090779\nEpoch 23: Train acc: 0.45634920634920634, Train loss: 1.5379759669303894 | Validation acc: 0.4351851851851852, Validation loss: 1.5473459959030151\nEpoch 24: Train acc: 0.46111111111111114, Train loss: 1.5291812807321548 | Validation acc: 0.43148148148148147, Validation loss: 1.5327095190684001\nEpoch 25: Train acc: 0.46984126984126984, Train loss: 1.5179361432790757 | Validation acc: 0.43703703703703706, Validation loss: 1.5312056144078572\nEpoch 26: Train acc: 0.4722222222222222, Train loss: 1.5132572859525681 | Validation acc: 0.4351851851851852, Validation loss: 1.5194108618630304\nEpoch 27: Train acc: 0.4765873015873016, Train loss: 1.5071658343076706 | Validation acc: 0.45740740740740743, Validation loss: 1.517510520087348\nEpoch 28: Train acc: 0.48214285714285715, Train loss: 1.497218507528305 | Validation acc: 0.4648148148148148, Validation loss: 1.5118977626164753\nEpoch 29: Train acc: 0.4888888888888889, Train loss: 1.4916474521160126 | Validation acc: 0.4740740740740741, Validation loss: 1.5049597289827135\nEpoch 30: Train acc: 0.49642857142857144, Train loss: 1.4860023945569991 | Validation acc: 0.4722222222222222, Validation loss: 1.494488490952386\nTotal time elapsed: 162.34 seconds\nFinished Training\n"
    }
   ],
   "source": [
    "hp.train(net, trainLoader, valLoader, lr, bs, epo)"
   ]
  },
  {
   "cell_type": "code",
   "execution_count": null,
   "metadata": {},
   "outputs": [],
   "source": []
  },
  {
   "cell_type": "code",
   "execution_count": null,
   "metadata": {},
   "outputs": [],
   "source": []
  }
 ],
 "metadata": {
  "language_info": {
   "codemirror_mode": {
    "name": "ipython",
    "version": 3
   },
   "file_extension": ".py",
   "mimetype": "text/x-python",
   "name": "python",
   "nbconvert_exporter": "python",
   "pygments_lexer": "ipython3",
   "version": "3.6.10-final"
  },
  "orig_nbformat": 2,
  "kernelspec": {
   "name": "python361064bitaps360condaa8da9fbadd8f4ed48a8b3483744da4ea",
   "display_name": "Python 3.6.10 64-bit ('APS360': conda)"
  }
 },
 "nbformat": 4,
 "nbformat_minor": 2
}