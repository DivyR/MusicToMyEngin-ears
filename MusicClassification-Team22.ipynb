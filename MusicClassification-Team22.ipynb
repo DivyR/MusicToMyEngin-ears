{
 "cells": [
  {
   "cell_type": "markdown",
   "metadata": {},
   "source": [
    "# Music Classification using Neural Networks\n",
    "by: Team 22\n",
    "***\n",
    "This notebook will serve as the 'main' training & classification point of network. It will be kept as easy-to-read as possible by importing necessary pre-processing, data loaders, and other helper functions that do not need to be tuned with the network."
   ]
  },
  {
   "cell_type": "code",
   "execution_count": 1,
   "metadata": {},
   "outputs": [],
   "source": []
  },
  {
   "cell_type": "code",
   "execution_count": null,
   "metadata": {},
   "outputs": [],
   "source": []
  }
 ],
 "metadata": {
  "language_info": {
   "codemirror_mode": {
    "name": "ipython",
    "version": 3
   },
   "file_extension": ".py",
   "mimetype": "text/x-python",
   "name": "python",
   "nbconvert_exporter": "python",
   "pygments_lexer": "ipython3",
   "version": "3.6.10-final"
  },
  "orig_nbformat": 2,
  "kernelspec": {
   "name": "python361064bitaps360condaa8da9fbadd8f4ed48a8b3483744da4ea",
   "display_name": "Python 3.6.10 64-bit ('APS360': conda)"
  }
 },
 "nbformat": 4,
 "nbformat_minor": 2
}