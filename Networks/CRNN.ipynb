{
  "nbformat": 4,
  "nbformat_minor": 0,
  "metadata": {
    "colab": {
      "name": "CRNN.ipynb",
      "provenance": []
    },
    "kernelspec": {
      "name": "python3",
      "display_name": "Python 3"
    }
  },
  "cells": [
    {
      "cell_type": "markdown",
      "metadata": {
        "id": "s3_lqC_PyO6b",
        "colab_type": "text"
      },
      "source": [
        "**Notes for Training:**\n",
        "- Loss: Categorical Cross-Entropy\n",
        "- Optimizer: Adam\n",
        "- Learning Rate: 0.0001\n",
        "- Patience = 10\n"
      ]
    },
    {
      "cell_type": "code",
      "metadata": {
        "id": "scYKArMju-zE",
        "colab_type": "code",
        "colab": {}
      },
      "source": [
        "#Relevant imports\n",
        "import torch\n",
        "import torch.nn as nn\n",
        "import torch.nn.functional as F \n",
        "import matplotlib.pyplot as plt \n",
        "import torch.optim as optim \n",
        "import numpy as np\n",
        "import tensorflow as tf\n",
        "from tensorflow import keras\n",
        "from tensorflow.keras import layers"
      ],
      "execution_count": 2,
      "outputs": []
    },
    {
      "cell_type": "code",
      "metadata": {
        "id": "9vIv7CgMo0bn",
        "colab_type": "code",
        "colab": {}
      },
      "source": [
        "#CRNN Architecture\n",
        "class ConvolutionalRecurrentNN(nn.Module):\n",
        "    def __init__(self):\n",
        "      super(ConvolutionalRecurrentNN, self).__init__()\n",
        "      self.name = \"CRNN\"\n",
        "      self.conv1 = nn.Conv2d(1,64,3)  #channels in, channels out, kernel\n",
        "      self.conv2 = nn.Conv2d(64,128,3)\n",
        "      self.conv3 = nn.Conv2d(128,128,3)\n",
        "      self.conv4 = nn.Conv2d(128,128,3)\n",
        "      self.pool1 = nn.MaxPool2d((2,2),1)\n",
        "      self.pool2 = nn.maxPool2d((4,2),1)\n",
        "      self.GRU1 = tf.keras.layers.GRU(32, dropout = 0.3)\n",
        "      self.GRU2 = tf.keras.layers.GRU(32, dropout = 0.3)\n",
        "      self.dense = tf.keras.layers.Dense(20, activation='softmax')\n",
        "\n",
        "    def forward (self, x):\n",
        "      x = self.pool1(F.elu(self.conv1(x)))\n",
        "      x = self.pool2(F.elu(self.conv2(x)))\n",
        "      x = self.pool2(F.elu(self.conv3(x)))\n",
        "      x = self.pool2(F.elu(self.conv4(x)))\n",
        "      x = self.GRU1(x)\n",
        "      x = self.GRU2(x)\n",
        "      x = self.dense(x)\n",
        "      return x"
      ],
      "execution_count": 3,
      "outputs": []
    },
    {
      "cell_type": "code",
      "metadata": {
        "id": "kBtAz9p324XM",
        "colab_type": "code",
        "colab": {}
      },
      "source": [
        ""
      ],
      "execution_count": null,
      "outputs": []
    }
  ]
}