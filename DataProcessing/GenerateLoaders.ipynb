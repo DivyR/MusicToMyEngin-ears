{
 "cells": [
  {
   "cell_type": "code",
   "execution_count": 1,
   "metadata": {},
   "outputs": [],
   "source": [
    "import sys\n",
    "# insert at 1, 0 is the script path (or '' in REPL)\n",
    "sys.path.insert(1, '../DataProcessing/')\n",
    "import SplitTVT as tvt\n",
    "import pickle\n"
   ]
  },
  {
   "cell_type": "code",
   "execution_count": 2,
   "metadata": {
    "tags": []
   },
   "outputs": [],
   "source": [
    "trainLoader, valLoader, testLoader = tvt.load_data(\"../Data/Dataset/\", 512)"
   ]
  },
  {
   "cell_type": "code",
   "execution_count": 4,
   "metadata": {
    "tags": []
   },
   "outputs": [
    {
     "output_type": "stream",
     "name": "stdout",
     "text": "5249\n1123\n1131\n"
    }
   ],
   "source": [
    "print(len(trainLoader.dataset))\n",
    "print(len(valLoader.dataset))\n",
    "print(len(testLoader.dataset))"
   ]
  },
  {
   "cell_type": "code",
   "execution_count": 7,
   "metadata": {},
   "outputs": [],
   "source": [
    "# important to use binary mode \n",
    "pickle.dump(trainLoader, open('trainLoader.pkl', 'ab'))\n",
    "pickle.dump(valLoader, open('valLoader.pkl', 'ab'))\n",
    "pickle.dump(testLoader, open('testLoader.pkl', 'ab'))"
   ]
  },
  {
   "cell_type": "code",
   "execution_count": null,
   "metadata": {},
   "outputs": [],
   "source": []
  }
 ],
 "metadata": {
  "language_info": {
   "codemirror_mode": {
    "name": "ipython",
    "version": 3
   },
   "file_extension": ".py",
   "mimetype": "text/x-python",
   "name": "python",
   "nbconvert_exporter": "python",
   "pygments_lexer": "ipython3",
   "version": 3
  },
  "orig_nbformat": 2,
  "kernelspec": {
   "name": "python_defaultSpec_1594519867494",
   "display_name": "Python 3.6.10 64-bit ('APS360': conda)"
  }
 },
 "nbformat": 4,
 "nbformat_minor": 2
}