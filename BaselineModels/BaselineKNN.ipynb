{
 "cells": [
  {
   "cell_type": "code",
   "execution_count": 50,
   "metadata": {},
   "outputs": [],
   "source": [
    "from sklearn.neighbors import KNeighborsClassifier, NearestCentroid\n",
    "import pickle\n",
    "import torch\n",
    "import torch.nn as nn\n",
    "import matplotlib.pyplot as plt\n",
    "import matplotlib.gridspec as gridspec\n",
    "import numpy as np"
   ]
  },
  {
   "cell_type": "code",
   "execution_count": 51,
   "metadata": {},
   "outputs": [],
   "source": [
    "trainSet = pickle.load(open( \"../Data/trainSet.pkl\", \"rb\" ))\n",
    "valSet = pickle.load(open( \"../Data/valSet.pkl\", \"rb\" ))"
   ]
  },
  {
   "cell_type": "code",
   "execution_count": 52,
   "metadata": {},
   "outputs": [],
   "source": [
    "trainData, trainLabels = trainSet.tensors[1], trainSet.tensors[0]\n",
    "valData, valLabels = valSet.tensors[1], valSet.tensors[0]"
   ]
  },
  {
   "cell_type": "code",
   "execution_count": 53,
   "metadata": {},
   "outputs": [],
   "source": [
    "# average the MFCC for each of the n samples to reduce\n",
    "# the number of dimensions down to 13 for each sample\n",
    "\n",
    "# flatten dimensions to n_samples x n_features\n",
    "trainDataFlat = trainData.mean(2)\n",
    "trainLabelsFlat = trainLabels.flatten()\n",
    "valDataFlat = valData.mean(2)\n",
    "valLabelsFlat = valLabels.flatten()"
   ]
  },
  {
   "cell_type": "code",
   "execution_count": 54,
   "metadata": {},
   "outputs": [],
   "source": [
    "def train_knn(trainData, trainLabels, valData, valLabels, K=(0, 0), metric=\"euclidean\"):\n",
    "    # track accuracy of each K\n",
    "    train_acc, val_acc = [], []\n",
    "\n",
    "    for i in range(K[0], K[1]+1, 1):\n",
    "        model = KNeighborsClassifier(n_neighbors=i, metric=metric)\n",
    "        model.fit(trainData, trainLabels)\n",
    "\n",
    "        train_acc.append(model.score(trainData, trainLabels))\n",
    "        val_acc.append(model.score(valData, valLabels))\n",
    "\n",
    "        print(\"K={} | train_acc: {}  | val_acc {}\".format(i, train_acc[-1], val_acc[-1]))\n",
    "    return train_acc, val_acc"
   ]
  },
  {
   "cell_type": "code",
   "execution_count": 55,
   "metadata": {
    "tags": []
   },
   "outputs": [
    {
     "name": "stdout",
     "output_type": "stream",
     "text": [
      "K=1 | train_acc: 0.9996252225241263  | val_acc 0.23241317898486197\n",
      "K=2 | train_acc: 0.8691089665511103  | val_acc 0.21371326803205698\n",
      "K=3 | train_acc: 0.8414691277054249  | val_acc 0.20213713268032057\n",
      "K=4 | train_acc: 0.7655766888410006  | val_acc 0.182546749777382\n",
      "K=5 | train_acc: 0.7176051719291671  | val_acc 0.1745325022261799\n",
      "K=6 | train_acc: 0.6620444111308911  | val_acc 0.17275155832591274\n",
      "K=7 | train_acc: 0.6222243043193104  | val_acc 0.1745325022261799\n",
      "K=8 | train_acc: 0.5774383959524032  | val_acc 0.163846838824577\n",
      "K=9 | train_acc: 0.546519254192823  | val_acc 0.1682991985752449\n",
      "K=10 | train_acc: 0.5264686592335801  | val_acc 0.16562778272484416\n",
      "K=11 | train_acc: 0.509041506605453  | val_acc 0.16295636687444345\n",
      "K=12 | train_acc: 0.4961116836878104  | val_acc 0.16918967052537845\n",
      "K=13 | train_acc: 0.4860863862081889  | val_acc 0.1620658949243099\n",
      "K=14 | train_acc: 0.4707205096973672  | val_acc 0.16562778272484416\n",
      "K=15 | train_acc: 0.4654736250351354  | val_acc 0.1682991985752449\n",
      "K=16 | train_acc: 0.4520753302726506  | val_acc 0.16295636687444345\n",
      "K=17 | train_acc: 0.44542303007589246  | val_acc 0.1674087266251113\n",
      "K=18 | train_acc: 0.43258690152721824  | val_acc 0.170080142475512\n",
      "K=19 | train_acc: 0.42303007589243885  | val_acc 0.1647373107747106\n",
      "K=20 | train_acc: 0.4212498828820388  | val_acc 0.16562778272484416\n",
      "K=21 | train_acc: 0.41225522346106996  | val_acc 0.1647373107747106\n",
      "K=22 | train_acc: 0.40166775976763797  | val_acc 0.1522707034728406\n",
      "K=23 | train_acc: 0.39791998500890097  | val_acc 0.15761353517364202\n",
      "K=24 | train_acc: 0.3936100440363534  | val_acc 0.1585040071237756\n",
      "K=25 | train_acc: 0.3896748805396796  | val_acc 0.15761353517364202\n",
      "K=26 | train_acc: 0.38433430150847936  | val_acc 0.1611754229741763\n",
      "K=27 | train_acc: 0.3784315562634686  | val_acc 0.15316117542297417\n",
      "K=28 | train_acc: 0.3744026983978263  | val_acc 0.15316117542297417\n",
      "K=29 | train_acc: 0.37131078422186825  | val_acc 0.15138023152270705\n",
      "K=30 | train_acc: 0.36746931509416286  | val_acc 0.1558325912733749\n",
      "K=31 | train_acc: 0.3660638995596365  | val_acc 0.15672306322350846\n",
      "K=32 | train_acc: 0.3654080389768575  | val_acc 0.1549421193232413\n",
      "K=33 | train_acc: 0.36269090227677314  | val_acc 0.1611754229741763\n",
      "K=34 | train_acc: 0.3573503232455729  | val_acc 0.15761353517364202\n",
      "K=35 | train_acc: 0.35631968518692025  | val_acc 0.1585040071237756\n",
      "K=36 | train_acc: 0.35275929916612014  | val_acc 0.15939447907390916\n",
      "K=37 | train_acc: 0.3456385271245198  | val_acc 0.15761353517364202\n",
      "K=38 | train_acc: 0.34057903120022487  | val_acc 0.1620658949243099\n",
      "K=39 | train_acc: 0.3402979480933196  | val_acc 0.16295636687444345\n",
      "K=40 | train_acc: 0.3358943127518036  | val_acc 0.1620658949243099\n",
      "K=41 | train_acc: 0.3370186451794247  | val_acc 0.1682991985752449\n",
      "K=42 | train_acc: 0.33645647896561415  | val_acc 0.17275155832591274\n",
      "K=43 | train_acc: 0.3334582591586246  | val_acc 0.1745325022261799\n",
      "K=44 | train_acc: 0.3311158999344139  | val_acc 0.1674087266251113\n",
      "K=45 | train_acc: 0.32708704206877165  | val_acc 0.16918967052537845\n",
      "K=46 | train_acc: 0.3257753209032137  | val_acc 0.17275155832591274\n",
      "K=47 | train_acc: 0.3253068490583716  | val_acc 0.17186108637577915\n",
      "K=48 | train_acc: 0.3245572941066242  | val_acc 0.170080142475512\n",
      "K=49 | train_acc: 0.32324557294106626  | val_acc 0.16562778272484416\n",
      "K=50 | train_acc: 0.32052843624098193  | val_acc 0.16295636687444345\n",
      "K=51 | train_acc: 0.318560854492645  | val_acc 0.15672306322350846\n",
      "K=52 | train_acc: 0.31612480089946593  | val_acc 0.15672306322350846\n",
      "K=53 | train_acc: 0.31584371779256065  | val_acc 0.14870881567230632\n",
      "K=54 | train_acc: 0.31415721915112904  | val_acc 0.14514692787177205\n",
      "K=55 | train_acc: 0.3133139698304132  | val_acc 0.14425645592163847\n",
      "K=56 | train_acc: 0.3129391923545395  | val_acc 0.1433659839715049\n",
      "K=57 | train_acc: 0.30909772322683404  | val_acc 0.1433659839715049\n",
      "K=58 | train_acc: 0.3076923076923077  | val_acc 0.13980409617097062\n",
      "K=59 | train_acc: 0.3091914175958025  | val_acc 0.14425645592163847\n",
      "K=60 | train_acc: 0.31012836128548676  | val_acc 0.14514692787177205\n",
      "K=61 | train_acc: 0.30722383584746554  | val_acc 0.14425645592163847\n",
      "K=62 | train_acc: 0.3031012836128549  | val_acc 0.14514692787177205\n",
      "K=63 | train_acc: 0.3058184203129392  | val_acc 0.14069456812110417\n",
      "K=64 | train_acc: 0.30291389487491804  | val_acc 0.1433659839715049\n",
      "K=65 | train_acc: 0.30104000749554954  | val_acc 0.13891362422083706\n",
      "K=66 | train_acc: 0.29982198069896  | val_acc 0.14069456812110417\n",
      "K=67 | train_acc: 0.296730066523002  | val_acc 0.14247551202137132\n",
      "K=68 | train_acc: 0.2974796214747494  | val_acc 0.1460373998219056\n",
      "K=69 | train_acc: 0.2942003185608545  | val_acc 0.1522707034728406\n",
      "K=70 | train_acc: 0.2909210156469596  | val_acc 0.14870881567230632\n",
      "K=71 | train_acc: 0.28839126768481216  | val_acc 0.1495992876224399\n",
      "K=72 | train_acc: 0.2855804366157594  | val_acc 0.14692787177203917\n",
      "K=73 | train_acc: 0.2860489084606015  | val_acc 0.14870881567230632\n",
      "K=74 | train_acc: 0.28698585215028577  | val_acc 0.1495992876224399\n",
      "K=75 | train_acc: 0.28576782535369627  | val_acc 0.14425645592163847\n",
      "K=76 | train_acc: 0.28492457603298044  | val_acc 0.14514692787177205\n",
      "K=77 | train_acc: 0.27949030263281177  | val_acc 0.14247551202137132\n",
      "K=78 | train_acc: 0.28239482807083294  | val_acc 0.14514692787177205\n",
      "K=79 | train_acc: 0.2829569942846435  | val_acc 0.14158504007123776\n",
      "K=80 | train_acc: 0.281083106905275  | val_acc 0.1433659839715049\n",
      "K=81 | train_acc: 0.28089571816733816  | val_acc 0.14692787177203917\n",
      "K=82 | train_acc: 0.2850182704019488  | val_acc 0.1495992876224399\n",
      "K=83 | train_acc: 0.2814578843811487  | val_acc 0.1460373998219056\n",
      "K=84 | train_acc: 0.2785533589431275  | val_acc 0.14514692787177205\n",
      "K=85 | train_acc: 0.2792092195259065  | val_acc 0.13980409617097062\n",
      "K=86 | train_acc: 0.2775227208844748  | val_acc 0.14069456812110417\n",
      "K=87 | train_acc: 0.276679471563759  | val_acc 0.13802315227070347\n",
      "K=88 | train_acc: 0.27902183078796966  | val_acc 0.13624220837043632\n",
      "K=89 | train_acc: 0.27911552515693805  | val_acc 0.13268032056990206\n",
      "K=90 | train_acc: 0.280427246322496  | val_acc 0.13624220837043632\n",
      "K=91 | train_acc: 0.2798650801086855  | val_acc 0.13891362422083706\n",
      "K=92 | train_acc: 0.27911552515693805  | val_acc 0.14069456812110417\n",
      "K=93 | train_acc: 0.2789281364190012  | val_acc 0.14069456812110417\n",
      "K=94 | train_acc: 0.2792092195259065  | val_acc 0.13980409617097062\n",
      "K=95 | train_acc: 0.28070832942940127  | val_acc 0.14158504007123776\n",
      "K=96 | train_acc: 0.28098941253630655  | val_acc 0.14514692787177205\n",
      "K=97 | train_acc: 0.28023985758455916  | val_acc 0.1495992876224399\n",
      "K=98 | train_acc: 0.2781785814672538  | val_acc 0.15048975957257346\n",
      "K=99 | train_acc: 0.2793966082638433  | val_acc 0.14870881567230632\n",
      "K=100 | train_acc: 0.27414972360161155  | val_acc 0.1495992876224399\n"
     ]
    }
   ],
   "source": [
    "K = [1, 100]\n",
    "metric = \"euclidean\"\n",
    "train_acc, val_acc = train_knn(trainDataFlat, trainLabelsFlat, valDataFlat, valLabelsFlat, K, metric)"
   ]
  },
  {
   "cell_type": "code",
   "execution_count": 56,
   "metadata": {},
   "outputs": [
    {
     "data": {
      "image/png": "[encoded data removed]",
      "text/plain": [
       "<Figure size 432x288 with 1 Axes>"
      ]
     },
     "metadata": {
      "needs_background": "light"
     },
     "output_type": "display_data"
    }
   ],
   "source": [
    "plt.plot(np.arange(K[0], K[1]+1), train_acc, val_acc)\n",
    "plt.xlabel(\"K-Value\")\n",
    "plt.ylabel(\"Accuracy\")\n",
    "plt.legend([\"Training\", \"Validation\"])\n",
    "plt.savefig('knn_euclidean.png', dpi=100)\n",
    "plt.show()"
   ]
  },
  {
   "cell_type": "code",
   "execution_count": 57,
   "metadata": {
    "tags": []
   },
   "outputs": [
    {
     "name": "stdout",
     "output_type": "stream",
     "text": [
      "K=1 | train_acc: 0.9996252225241263  | val_acc 0.24220837043633126\n",
      "K=2 | train_acc: 0.8690152721821418  | val_acc 0.21193232413178986\n",
      "K=3 | train_acc: 0.8433430150847934  | val_acc 0.20837043633125557\n",
      "K=4 | train_acc: 0.7765389300103064  | val_acc 0.201246660730187\n",
      "K=5 | train_acc: 0.7261313595052937  | val_acc 0.1923419412288513\n",
      "K=6 | train_acc: 0.6679471563759019  | val_acc 0.17186108637577915\n",
      "K=7 | train_acc: 0.6250351353883632  | val_acc 0.1745325022261799\n",
      "K=8 | train_acc: 0.5909303850838564  | val_acc 0.16562778272484416\n",
      "K=9 | train_acc: 0.5588869108966551  | val_acc 0.1647373107747106\n",
      "K=10 | train_acc: 0.5355570130235173  | val_acc 0.15316117542297417\n",
      "K=11 | train_acc: 0.5140073081607796  | val_acc 0.1549421193232413\n",
      "K=12 | train_acc: 0.4998594584465474  | val_acc 0.1549421193232413\n",
      "K=13 | train_acc: 0.49011524407383117  | val_acc 0.1549421193232413\n",
      "K=14 | train_acc: 0.4794340860114307  | val_acc 0.1611754229741763\n",
      "K=15 | train_acc: 0.47315656329054623  | val_acc 0.1620658949243099\n",
      "K=16 | train_acc: 0.4629438770729879  | val_acc 0.16651825467497774\n",
      "K=17 | train_acc: 0.4549798557106718  | val_acc 0.17275155832591274\n",
      "K=18 | train_acc: 0.44551672444486085  | val_acc 0.16562778272484416\n",
      "K=19 | train_acc: 0.4412067834723133  | val_acc 0.1682991985752449\n",
      "K=20 | train_acc: 0.42977607045816546  | val_acc 0.163846838824577\n",
      "K=21 | train_acc: 0.42143727161997563  | val_acc 0.163846838824577\n",
      "K=22 | train_acc: 0.40944439239201724  | val_acc 0.1620658949243099\n",
      "K=23 | train_acc: 0.40101189918485897  | val_acc 0.15939447907390916\n",
      "K=24 | train_acc: 0.39351634966738497  | val_acc 0.1585040071237756\n",
      "K=25 | train_acc: 0.39117399044317436  | val_acc 0.15405164737310775\n",
      "K=26 | train_acc: 0.3909866017052375  | val_acc 0.15672306322350846\n",
      "K=27 | train_acc: 0.38367844092570036  | val_acc 0.14425645592163847\n",
      "K=28 | train_acc: 0.3804928323807739  | val_acc 0.14425645592163847\n",
      "K=29 | train_acc: 0.37384053218401575  | val_acc 0.13802315227070347\n",
      "K=30 | train_acc: 0.371029701114963  | val_acc 0.14514692787177205\n",
      "K=31 | train_acc: 0.36372154033542586  | val_acc 0.1460373998219056\n",
      "K=32 | train_acc: 0.35809987819732036  | val_acc 0.14514692787177205\n",
      "K=33 | train_acc: 0.35116649489365687  | val_acc 0.14247551202137132\n",
      "K=34 | train_acc: 0.3486367469315094  | val_acc 0.1433659839715049\n",
      "K=35 | train_acc: 0.34554483275555137  | val_acc 0.14781834372217276\n",
      "K=36 | train_acc: 0.34460788906586715  | val_acc 0.1433659839715049\n",
      "K=37 | train_acc: 0.34741872013491987  | val_acc 0.14692787177203917\n",
      "K=38 | train_acc: 0.34207814110371965  | val_acc 0.14692787177203917\n",
      "K=39 | train_acc: 0.3387988381898248  | val_acc 0.1433659839715049\n",
      "K=40 | train_acc: 0.3350510634310878  | val_acc 0.14514692787177205\n",
      "K=41 | train_acc: 0.33448889721727726  | val_acc 0.1495992876224399\n",
      "K=42 | train_acc: 0.3340204253724351  | val_acc 0.14870881567230632\n",
      "K=43 | train_acc: 0.3340204253724351  | val_acc 0.14692787177203917\n",
      "K=44 | train_acc: 0.3339267310034667  | val_acc 0.1460373998219056\n",
      "K=45 | train_acc: 0.33804928323807737  | val_acc 0.1460373998219056\n",
      "K=46 | train_acc: 0.3358006183828352  | val_acc 0.1460373998219056\n",
      "K=47 | train_acc: 0.33448889721727726  | val_acc 0.14781834372217276\n",
      "K=48 | train_acc: 0.33570692401386676  | val_acc 0.14425645592163847\n",
      "K=49 | train_acc: 0.3343952028483088  | val_acc 0.1460373998219056\n",
      "K=50 | train_acc: 0.33224023236203504  | val_acc 0.14692787177203917\n",
      "K=51 | train_acc: 0.3279302913894875  | val_acc 0.14425645592163847\n",
      "K=52 | train_acc: 0.3254942377963084  | val_acc 0.14514692787177205\n",
      "K=53 | train_acc: 0.32221493488241354  | val_acc 0.14692787177203917\n",
      "K=54 | train_acc: 0.3193104094443924  | val_acc 0.14692787177203917\n",
      "K=55 | train_acc: 0.3204347418720135  | val_acc 0.14425645592163847\n",
      "K=56 | train_acc: 0.3200599643961398  | val_acc 0.14158504007123776\n",
      "K=57 | train_acc: 0.31659327274430804  | val_acc 0.14425645592163847\n",
      "K=58 | train_acc: 0.3115337768200131  | val_acc 0.13891362422083706\n",
      "K=59 | train_acc: 0.307317530216434  | val_acc 0.13624220837043632\n",
      "K=60 | train_acc: 0.30759861332333926  | val_acc 0.13446126447016918\n",
      "K=61 | train_acc: 0.30413192167150754  | val_acc 0.13357079252003562\n",
      "K=62 | train_acc: 0.3046940878853181  | val_acc 0.13446126447016918\n",
      "K=63 | train_acc: 0.3002904525438021  | val_acc 0.13357079252003562\n",
      "K=64 | train_acc: 0.3001967581748337  | val_acc 0.13624220837043632\n",
      "K=65 | train_acc: 0.3021643399231706  | val_acc 0.13535173642030277\n",
      "K=66 | train_acc: 0.3012273962334864  | val_acc 0.13980409617097062\n",
      "K=67 | train_acc: 0.3018832568162653  | val_acc 0.13802315227070347\n",
      "K=68 | train_acc: 0.30160217370936004  | val_acc 0.14069456812110417\n",
      "K=69 | train_acc: 0.29925981448514943  | val_acc 0.13802315227070347\n",
      "K=70 | train_acc: 0.29776070458165466  | val_acc 0.13980409617097062\n",
      "K=71 | train_acc: 0.29785439895062304  | val_acc 0.13891362422083706\n",
      "K=72 | train_acc: 0.2995408975920547  | val_acc 0.1433659839715049\n",
      "K=73 | train_acc: 0.29776070458165466  | val_acc 0.14247551202137132\n",
      "K=74 | train_acc: 0.29729223273681255  | val_acc 0.14247551202137132\n",
      "K=75 | train_acc: 0.29785439895062304  | val_acc 0.1371326803205699\n",
      "K=76 | train_acc: 0.296074205940223  | val_acc 0.14247551202137132\n",
      "K=77 | train_acc: 0.29710484399887566  | val_acc 0.14781834372217276\n",
      "K=78 | train_acc: 0.29897873137824416  | val_acc 0.14781834372217276\n",
      "K=79 | train_acc: 0.29757331584371777  | val_acc 0.13891362422083706\n",
      "K=80 | train_acc: 0.2995408975920547  | val_acc 0.13802315227070347\n",
      "K=81 | train_acc: 0.3005715356507074  | val_acc 0.13624220837043632\n",
      "K=82 | train_acc: 0.30010306380586527  | val_acc 0.1371326803205699\n",
      "K=83 | train_acc: 0.2981354820575283  | val_acc 0.13980409617097062\n",
      "K=84 | train_acc: 0.295418345357444  | val_acc 0.14247551202137132\n",
      "K=85 | train_acc: 0.292982291764265  | val_acc 0.13980409617097062\n",
      "K=86 | train_acc: 0.29382554108498077  | val_acc 0.13891362422083706\n",
      "K=87 | train_acc: 0.29551203972641243  | val_acc 0.1371326803205699\n",
      "K=88 | train_acc: 0.29326337487117027  | val_acc 0.13802315227070347\n",
      "K=89 | train_acc: 0.29729223273681255  | val_acc 0.13891362422083706\n",
      "K=90 | train_acc: 0.2965426777850651  | val_acc 0.1371326803205699\n",
      "K=91 | train_acc: 0.2950435678815703  | val_acc 0.13802315227070347\n",
      "K=92 | train_acc: 0.29523095661950716  | val_acc 0.13624220837043632\n",
      "K=93 | train_acc: 0.29569942846434927  | val_acc 0.13802315227070347\n",
      "K=94 | train_acc: 0.29429401292982293  | val_acc 0.13624220837043632\n",
      "K=95 | train_acc: 0.29335706924013866  | val_acc 0.13802315227070347\n",
      "K=96 | train_acc: 0.2953246509884756  | val_acc 0.13980409617097062\n",
      "K=97 | train_acc: 0.2908273212779912  | val_acc 0.13802315227070347\n",
      "K=98 | train_acc: 0.2909210156469596  | val_acc 0.13802315227070347\n",
      "K=99 | train_acc: 0.28989037758830694  | val_acc 0.13624220837043632\n",
      "K=100 | train_acc: 0.28885973952965427  | val_acc 0.13535173642030277\n"
     ]
    }
   ],
   "source": [
    "K = [1, 100]\n",
    "metric = \"manhattan\"\n",
    "train_acc, val_acc = train_knn(trainDataFlat, trainLabelsFlat, valDataFlat, valLabelsFlat, K, metric)"
   ]
  },
  {
   "cell_type": "code",
   "execution_count": 58,
   "metadata": {},
   "outputs": [
    {
     "data": {
      "image/png": "[encoded data removed]",
      "text/plain": [
       "<Figure size 432x288 with 1 Axes>"
      ]
     },
     "metadata": {
      "needs_background": "light"
     },
     "output_type": "display_data"
    }
   ],
   "source": [
    "plt.plot(np.arange(K[0], K[1]+1), train_acc, val_acc)\n",
    "plt.xlabel(\"K-Value\")\n",
    "plt.ylabel(\"Accuracy\")\n",
    "plt.legend([\"Training\", \"Validation\"])\n",
    "plt.savefig('knn_manhatton.png', dpi=100)\n",
    "plt.show()"
   ]
  },
  {
   "cell_type": "code",
   "execution_count": 16,
   "metadata": {},
   "outputs": [],
   "source": [
    "# best model\n",
    "modelBest = KNeighborsClassifier(n_neighbors=1, metric=\"manhattan\")"
   ]
  },
  {
   "cell_type": "code",
   "execution_count": 17,
   "metadata": {},
   "outputs": [],
   "source": [
    "org = {2: [], 10: [], 12: [], 15: [], 17: [], 21: [], 38: []}\n",
    "classes = list(org.keys())\n",
    "conf = np.zeros(shape=(len(classes), len(classes))) "
   ]
  },
  {
   "cell_type": "code",
   "execution_count": 41,
   "metadata": {},
   "outputs": [
    {
     "name": "stdout",
     "output_type": "stream",
     "text": [
      "torch.Size([1123])\n",
      "torch.Size([1123, 13])\n"
     ]
    }
   ],
   "source": [
    "for i in range(len(valLabelsFlat)):\n",
    "    org[int(valLabelsFlat[i])] = [valDataFlat[j] for j in range(valDataFlat.shape[0]) if valLabelsFlat[j] == valLabelsFlat[i]]\n",
    "print(valLabelsFlat.shape)\n",
    "print(valDataFlat.shape)"
   ]
  },
  {
   "cell_type": "code",
   "execution_count": 75,
   "metadata": {},
   "outputs": [
    {
     "name": "stdout",
     "output_type": "stream",
     "text": [
      "torch.Size([102, 13])\n",
      "torch.Size([1326])\n"
     ]
    },
    {
     "ename": "TypeError",
     "evalue": "score() missing 2 required positional arguments: 'X' and 'y'",
     "output_type": "error",
     "traceback": [
      "\u001b[0;31m--------------------------------------\u001b[0m",
      "\u001b[0;31mTypeError\u001b[0mTraceback (most recent call last)",
      "\u001b[0;32m<ipython-input-75-1f2f755f4614>\u001b[0m in \u001b[0;36m<module>\u001b[0;34m\u001b[0m\n\u001b[1;32m      9\u001b[0m         \u001b[0mtorch\u001b[0m\u001b[0;34m.\u001b[0m\u001b[0mcat\u001b[0m\u001b[0;34m(\u001b[0m\u001b[0mins\u001b[0m\u001b[0;34m,\u001b[0m \u001b[0mout\u001b[0m\u001b[0;34m=\u001b[0m\u001b[0ma\u001b[0m\u001b[0;34m)\u001b[0m\u001b[0;34m\u001b[0m\u001b[0;34m\u001b[0m\u001b[0m\n\u001b[1;32m     10\u001b[0m         \u001b[0mprint\u001b[0m\u001b[0;34m(\u001b[0m\u001b[0ma\u001b[0m\u001b[0;34m.\u001b[0m\u001b[0mshape\u001b[0m\u001b[0;34m)\u001b[0m\u001b[0;34m\u001b[0m\u001b[0;34m\u001b[0m\u001b[0m\n\u001b[0;32m---> 11\u001b[0;31m         \u001b[0mscr\u001b[0m \u001b[0;34m=\u001b[0m \u001b[0mmodelBest\u001b[0m\u001b[0;34m.\u001b[0m\u001b[0mscore\u001b[0m\u001b[0;34m(\u001b[0m\u001b[0;34m)\u001b[0m\u001b[0;34m\u001b[0m\u001b[0;34m\u001b[0m\u001b[0m\n\u001b[0m\u001b[1;32m     12\u001b[0m \u001b[0;34m\u001b[0m\u001b[0m\n\u001b[1;32m     13\u001b[0m \u001b[0;34m\u001b[0m\u001b[0m\n",
      "\u001b[0;31mTypeError\u001b[0m: score() missing 2 required positional arguments: 'X' and 'y'"
     ]
    }
   ],
   "source": [
    "for i in range(len(classes)):\n",
    "    for j in range(len(classes)):\n",
    "        idxGuess = classes[j]\n",
    "        idxAct = classes[i]\n",
    "        labs = [idxGuess for _ in range(len(org[idxAct]))]\n",
    "        ins = org[idxAct]\n",
    "        a = torch.Tensor(len(ins), 13)\n",
    "        print(a.shape)\n",
    "        torch.cat(ins, out=a)\n",
    "        print(a.shape)\n",
    "        scr = modelBest.score()\n",
    "\n",
    "        \n",
    "        "
   ]
  },
  {
   "cell_type": "code",
   "execution_count": null,
   "metadata": {},
   "outputs": [],
   "source": []
  }
 ],
 "metadata": {
  "kernelspec": {
   "display_name": "Python 3.6.10 64-bit ('APS360': conda)",
   "language": "python",
   "name": "python361064bitaps360condaa8da9fbadd8f4ed48a8b3483744da4ea"
  },
  "language_info": {
   "codemirror_mode": {
    "name": "ipython",
    "version": 3
   },
   "file_extension": ".py",
   "mimetype": "text/x-python",
   "name": "python",
   "nbconvert_exporter": "python",
   "pygments_lexer": "ipython3",
   "version": "3.6.10"
  }
 },
 "nbformat": 4,
 "nbformat_minor": 4
}
