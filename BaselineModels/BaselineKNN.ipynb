{
 "cells": [
  {
   "cell_type": "code",
   "execution_count": 2,
   "metadata": {},
   "outputs": [],
   "source": [
    "from sklearn.neighbors import KNeighborsClassifier\n"
   ]
  },
  {
   "cell_type": "code",
   "execution_count": 4,
   "metadata": {},
   "outputs": [],
   "source": [
    "import split_folders\n",
    "import os\n",
    "import numpy as np\n",
    "import torch"
   ]
  },
  {
   "cell_type": "code",
   "execution_count": 40,
   "metadata": {},
   "outputs": [],
   "source": [
    "def split_into_tvt(inPath, outPath=None, proportions=(0.7, 0.15, 0.15)):\n",
    "    if outPath is None:\n",
    "        outPath = inPath\n",
    "    split_folders.ratio(input=inPath, output=outPath, seed=22, ratio=proportions)\n",
    "    return\n",
    "\n",
    "\n",
    "def produce_datasets(path):\n",
    "    \"\"\"Assumes that the path is a train, val, or test folder\"\"\"\n",
    "    # import all images as numpy array into a list\n",
    "    data, labels = [], []\n",
    "    for folder in os.listdir(path):\n",
    "        data += [np.loadtxt(\"{}{}/{}\".format(path, folder, file))[:, :1292] for file in os.listdir(path + folder)]\n",
    "        \n",
    "        label = int(float(folder))\n",
    "        labels += [np.array([label]) for _ in range(len(os.listdir(path + folder)))]\n",
    "        break\n",
    "    print(len(data))\n",
    "    print(data[0].shape)\n",
    "    b = torch.tensor(labels)\n",
    "    a = torch.tensor(data)\n",
    "\n",
    "    return a, b\n",
    "\n",
    "\n",
    "def load_data(path, batchSize):\n",
    "    \"\"\"path is a directory containing train, val, and test folders\"\"\"\n",
    "\n",
    "    # get data and labels as tensors\n",
    "    print(\"1\")\n",
    "    trainData, trainLabels = produce_datasets(path + \"train/\")\n",
    "    print(\"2\")\n",
    "    valData, valLabels = produce_datasets(path + \"val/\")\n",
    "    print(\"3\")\n",
    "    testData, testLabels = produce_datasets(path + \"test/\")\n",
    "\n",
    "    print(\"4\")\n",
    "    trainSet = torch.utils.data.TensorDataset(trainData, trainLabels)\n",
    "    valSet = torch.utils.data.TensorDataset(valData, valLabels)\n",
    "    testSet = torch.utils.data.TensorDataset(testData, testLabels)\n",
    "\n",
    "    # loader generation\n",
    "    params = {\"batch_size\": batchSize, \"shuffle\": True, \"num_workers\": 1}\n",
    "\n",
    "    print(\"5\")\n",
    "    train_loader = torch.utils.data.DataLoader(trainSet, **params)\n",
    "    print(\"6\")\n",
    "    val_loader = torch.utils.data.DataLoader(valSet, **params)\n",
    "    test_loader = torch.utils.data.DataLoader(testSet, **params)\n",
    "\n",
    "    return train_loader, val_loader, test_loader"
   ]
  },
  {
   "cell_type": "code",
   "execution_count": 41,
   "metadata": {},
   "outputs": [],
   "source": [
    "data = torch.tensor([np.array([[10, 20, 30], [40, 50, 60]]) for i in range(10)])\n",
    "labels = [np.array([1]) for i in range(10)]\n",
    "\n",
    "\n"
   ]
  },
  {
   "cell_type": "code",
   "execution_count": 42,
   "metadata": {
    "tags": []
   },
   "outputs": [
    {
     "output_type": "stream",
     "name": "stdout",
     "text": "1\n427\n(13, 1292)\n2\n91\n(13, 1292)\n3\n93\n(13, 1292)\n4\n"
    },
    {
     "output_type": "error",
     "ename": "NameError",
     "evalue": "name 'batchsize' is not defined",
     "traceback": [
      "\u001b[0;31m---------------------------------------------------------------------------\u001b[0m",
      "\u001b[0;31mNameError\u001b[0m                                 Traceback (most recent call last)",
      "\u001b[0;32m<ipython-input-42-3546615c5650>\u001b[0m in \u001b[0;36m<module>\u001b[0;34m\u001b[0m\n\u001b[0;32m----> 1\u001b[0;31m \u001b[0mtrainLoader\u001b[0m\u001b[0;34m,\u001b[0m \u001b[0mvalLoader\u001b[0m\u001b[0;34m,\u001b[0m \u001b[0mtestLoader\u001b[0m \u001b[0;34m=\u001b[0m \u001b[0mload_data\u001b[0m\u001b[0;34m(\u001b[0m\u001b[0;34m\"../Data/Dataset/\"\u001b[0m\u001b[0;34m,\u001b[0m \u001b[0;36m512\u001b[0m\u001b[0;34m)\u001b[0m\u001b[0;34m\u001b[0m\u001b[0;34m\u001b[0m\u001b[0m\n\u001b[0m",
      "\u001b[0;32m<ipython-input-40-7d31eda8e3e5>\u001b[0m in \u001b[0;36mload_data\u001b[0;34m(path, batchSize)\u001b[0m\n\u001b[1;32m     41\u001b[0m \u001b[0;34m\u001b[0m\u001b[0m\n\u001b[1;32m     42\u001b[0m     \u001b[0;31m# loader generation\u001b[0m\u001b[0;34m\u001b[0m\u001b[0;34m\u001b[0m\u001b[0;34m\u001b[0m\u001b[0m\n\u001b[0;32m---> 43\u001b[0;31m     \u001b[0mparams\u001b[0m \u001b[0;34m=\u001b[0m \u001b[0;34m{\u001b[0m\u001b[0;34m\"batch_size\"\u001b[0m\u001b[0;34m:\u001b[0m \u001b[0mbatchsize\u001b[0m\u001b[0;34m,\u001b[0m \u001b[0;34m\"shuffle\"\u001b[0m\u001b[0;34m:\u001b[0m \u001b[0;32mTrue\u001b[0m\u001b[0;34m,\u001b[0m \u001b[0;34m\"num_workers\"\u001b[0m\u001b[0;34m:\u001b[0m \u001b[0;36m1\u001b[0m\u001b[0;34m}\u001b[0m\u001b[0;34m\u001b[0m\u001b[0;34m\u001b[0m\u001b[0m\n\u001b[0m\u001b[1;32m     44\u001b[0m \u001b[0;34m\u001b[0m\u001b[0m\n\u001b[1;32m     45\u001b[0m     \u001b[0mprint\u001b[0m\u001b[0;34m(\u001b[0m\u001b[0;34m\"5\"\u001b[0m\u001b[0;34m)\u001b[0m\u001b[0;34m\u001b[0m\u001b[0;34m\u001b[0m\u001b[0m\n",
      "\u001b[0;31mNameError\u001b[0m: name 'batchsize' is not defined"
     ]
    }
   ],
   "source": [
    "trainLoader, valLoader, testLoader = load_data(\"../Data/Dataset/\", 512)"
   ]
  },
  {
   "cell_type": "code",
   "execution_count": null,
   "metadata": {},
   "outputs": [],
   "source": []
  }
 ],
 "metadata": {
  "language_info": {
   "codemirror_mode": {
    "name": "ipython",
    "version": 3
   },
   "file_extension": ".py",
   "mimetype": "text/x-python",
   "name": "python",
   "nbconvert_exporter": "python",
   "pygments_lexer": "ipython3",
   "version": 3
  },
  "orig_nbformat": 2,
  "kernelspec": {
   "name": "python_defaultSpec_1594519867494",
   "display_name": "Python 3.6.10 64-bit ('APS360': conda)"
  }
 },
 "nbformat": 4,
 "nbformat_minor": 2
}